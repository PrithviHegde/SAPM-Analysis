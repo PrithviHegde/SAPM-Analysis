{
  "nbformat": 4,
  "nbformat_minor": 0,
  "metadata": {
    "colab": {
      "provenance": [],
      "collapsed_sections": [],
      "authorship_tag": "ABX9TyNiBp2TGc6z/uwc1Ubgbdp6",
      "include_colab_link": true
    },
    "kernelspec": {
      "name": "python3",
      "display_name": "Python 3"
    },
    "language_info": {
      "name": "python"
    }
  },
  "cells": [
    {
      "cell_type": "markdown",
      "metadata": {
        "id": "view-in-github",
        "colab_type": "text"
      },
      "source": [
        "<a href=\"https://colab.research.google.com/github/PrithviHegde/SAPM-Analysis/blob/main/SAPM_Assignment.ipynb\" target=\"_parent\"><img src=\"https://colab.research.google.com/assets/colab-badge.svg\" alt=\"Open In Colab\"/></a>"
      ]
    },
    {
      "cell_type": "markdown",
      "source": [
        "# Portfolio Optimization"
      ],
      "metadata": {
        "id": "9yGbVRmVlFYU"
      }
    },
    {
      "cell_type": "markdown",
      "source": [
        "### Part 1: With Historical Data"
      ],
      "metadata": {
        "id": "PkSZ8IHrlXRi"
      }
    },
    {
      "cell_type": "markdown",
      "source": [
        "“Modern Portfolio Theory (MPT), a hypothesis put forth by Harry Markowitz in his paper “Portfolio Selection,” (published in 1952 by the Journal of Finance) is an investment theory based on the idea that risk-averse investors can construct portfolios to optimize or maximize expected return based on a given level of market risk, emphasizing that risk is an inherent part of higher reward. It is one of the most important and influential economic theories dealing with finance and investment."
      ],
      "metadata": {
        "id": "_w2tePNGlOYC"
      }
    },
    {
      "cell_type": "markdown",
      "source": [
        "Imports:"
      ],
      "metadata": {
        "id": "zmgR1dpaljgd"
      }
    },
    {
      "cell_type": "code",
      "source": [
        "#Importing libraries\n",
        "import warnings\n",
        "warnings.filterwarnings(\"ignore\")\n",
        "import pandas as pd\n",
        "import numpy as np\n",
        "import matplotlib.pyplot as plt\n",
        "import datetime as dt\n",
        "import seaborn as sns\n",
        "import pandas_datareader.data as web\n",
        "\n",
        "#upgrade default pandas datareader (for google colab)\n",
        "!pip install --upgrade pandas-datareader"
      ],
      "metadata": {
        "id": "zTHEqDLKlm_n"
      },
      "execution_count": null,
      "outputs": []
    },
    {
      "cell_type": "markdown",
      "source": [
        "Start and end DateTimes:\n",
        "\n",
        "Start: "
      ],
      "metadata": {
        "id": "oCBKfjUFmrxH"
      }
    }
  ]
}